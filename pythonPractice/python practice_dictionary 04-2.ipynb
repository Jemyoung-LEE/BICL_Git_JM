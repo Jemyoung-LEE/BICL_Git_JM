{
 "cells": [
  {
   "cell_type": "code",
   "execution_count": 12,
   "id": "627d6232",
   "metadata": {},
   "outputs": [
    {
     "name": "stdout",
     "output_type": "stream",
     "text": [
      "A 5살\n",
      "B 6살\n",
      "C 7살\n"
     ]
    }
   ],
   "source": [
    "#02\n",
    "\n",
    "pets = [\n",
    "    {\"name\": \"A\", \"age\" : 5},\n",
    "    {\"name\": \"B\", \"age\" : 6},\n",
    "    {\"name\": \"C\", \"age\" : 7}\n",
    "]\n",
    "\n",
    "for i in pets:\n",
    "    print(i[\"name\"], str(i[\"age\"])+\"살\")"
   ]
  },
  {
   "cell_type": "code",
   "execution_count": 18,
   "id": "76b9b0bd",
   "metadata": {},
   "outputs": [
    {
     "name": "stdout",
     "output_type": "stream",
     "text": [
      "{1: 4, 4: 4, 5: 5, 3: 5, 6: 2, 7: 4, 8: 4, 9: 5, 2: 2}\n"
     ]
    }
   ],
   "source": [
    "#03\n",
    "numbers = [1,4,5,3,6,7,8,3,5,3,4,5,6,7,7,8,9,9,9,9,2,8,9,5,4,3,2,1,1,1,7,8,3,4,5]\n",
    "len(numbers)\n",
    "\n",
    "counter={}\n",
    "\n",
    "for n in numbers:\n",
    "    if n in counter:\n",
    "        counter[n] = counter[n]+1\n",
    "    else:\n",
    "        counter[n]= 1\n",
    "\n",
    "print(counter)\n",
    "        "
   ]
  },
  {
   "cell_type": "code",
   "execution_count": 24,
   "id": "11dce048",
   "metadata": {},
   "outputs": [
    {
     "name": "stdout",
     "output_type": "stream",
     "text": [
      "name : 기사\n",
      "level : 12\n",
      "sword : 검\n",
      "armor : 고급갑옷\n",
      "skill : 베기\n",
      "skill : 찌르기\n",
      "skill : 도망치기\n"
     ]
    }
   ],
   "source": [
    "#04\n",
    "character = {\n",
    "    \"name\":\"기사\",\n",
    "    \"level\":12,\n",
    "    \"items\": {\n",
    "        \"sword\": \"검\",\n",
    "        \"armor\": \"고급갑옷\"\n",
    "    },\n",
    "    \"skill\" : [\"베기\", \"찌르기\", \"도망치기\"]\n",
    "    \n",
    "}\n",
    "\n",
    "for key in character:\n",
    "    if type(character[key]) is dict:\n",
    "        for key_dict in character[key]:\n",
    "            print(key_dict, \":\", character[key][key_dict])\n",
    "    elif type(character[key]) is list:\n",
    "        for key_list in character[key]:\n",
    "            print(key, \":\", key_list)\n",
    "    else:\n",
    "        print(key, \":\", character[key])\n",
    "        \n"
   ]
  },
  {
   "cell_type": "code",
   "execution_count": null,
   "id": "e1fa5313",
   "metadata": {},
   "outputs": [],
   "source": []
  }
 ],
 "metadata": {
  "kernelspec": {
   "display_name": "Python 3",
   "language": "python",
   "name": "python3"
  },
  "language_info": {
   "codemirror_mode": {
    "name": "ipython",
    "version": 3
   },
   "file_extension": ".py",
   "mimetype": "text/x-python",
   "name": "python",
   "nbconvert_exporter": "python",
   "pygments_lexer": "ipython3",
   "version": "3.6.13"
  }
 },
 "nbformat": 4,
 "nbformat_minor": 5
}
