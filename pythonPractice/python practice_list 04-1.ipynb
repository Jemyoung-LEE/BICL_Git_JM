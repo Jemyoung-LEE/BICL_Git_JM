{
 "cells": [
  {
   "cell_type": "code",
   "execution_count": 1,
   "id": "7e5e40db",
   "metadata": {},
   "outputs": [],
   "source": [
    "#혼공파 04-1 예제"
   ]
  },
  {
   "cell_type": "code",
   "execution_count": 2,
   "id": "2be1105a",
   "metadata": {},
   "outputs": [
    {
     "name": "stdout",
     "output_type": "stream",
     "text": [
      "273\n",
      "103\n",
      "800\n"
     ]
    }
   ],
   "source": [
    "#02\n",
    "numbers=[273,103,5,32,65,9,72,800,99]\n",
    "for number in numbers:\n",
    "    if number>100:\n",
    "        print(number)"
   ]
  },
  {
   "cell_type": "code",
   "execution_count": 3,
   "id": "77e9cc28",
   "metadata": {},
   "outputs": [
    {
     "name": "stdout",
     "output_type": "stream",
     "text": [
      "273 는 홀수입니다\n",
      "103 는 홀수입니다\n",
      "5 는 홀수입니다\n",
      "32 는 짝수입니다\n",
      "65 는 홀수입니다\n",
      "9 는 홀수입니다\n",
      "72 는 짝수입니다\n",
      "800 는 짝수입니다\n",
      "99 는 홀수입니다\n"
     ]
    }
   ],
   "source": [
    "#03\n",
    "for i in numbers:\n",
    "    if i%2==0:\n",
    "        print(i,\"는 짝수입니다\")\n",
    "    else :\n",
    "        print(i, \"는 홀수입니다\")"
   ]
  },
  {
   "cell_type": "code",
   "execution_count": 4,
   "id": "a4b3331d",
   "metadata": {},
   "outputs": [
    {
     "name": "stdout",
     "output_type": "stream",
     "text": [
      "273 는 3 자릿수\n",
      "103 는 3 자릿수\n",
      "5 는 1 자릿수\n",
      "32 는 2 자릿수\n",
      "65 는 2 자릿수\n",
      "9 는 1 자릿수\n",
      "72 는 2 자릿수\n",
      "800 는 3 자릿수\n",
      "99 는 2 자릿수\n"
     ]
    }
   ],
   "source": [
    "#03\n",
    "for i in numbers:\n",
    "    print(i,\"는\", len(str(i)), \"자릿수\")"
   ]
  },
  {
   "cell_type": "code",
   "execution_count": 5,
   "id": "b0367961",
   "metadata": {},
   "outputs": [
    {
     "name": "stdout",
     "output_type": "stream",
     "text": [
      "1\n",
      "2\n",
      "3\n",
      "4\n",
      "5\n",
      "6\n",
      "7\n",
      "8\n",
      "9\n"
     ]
    }
   ],
   "source": [
    "#04\n",
    "list_01=[[1,2,3],[4,5,6,7],[8,9]]\n",
    "for i in list_01:\n",
    "    for j in i:\n",
    "        print(j)\n",
    "        "
   ]
  },
  {
   "cell_type": "code",
   "execution_count": 6,
   "id": "61c886d9",
   "metadata": {},
   "outputs": [
    {
     "name": "stdout",
     "output_type": "stream",
     "text": [
      "[[1, 4, 7], [2, 5, 8], [3, 6, 9]]\n"
     ]
    }
   ],
   "source": [
    "#05\n",
    "numbers=[1,2,3,4,5,6,7,8,9]\n",
    "output=[[],[],[]]\n",
    "for number in numbers:\n",
    "    output[number%3-1].append(number)\n",
    "print(output)"
   ]
  },
  {
   "cell_type": "code",
   "execution_count": null,
   "id": "dcef834a",
   "metadata": {},
   "outputs": [],
   "source": []
  },
  {
   "cell_type": "code",
   "execution_count": null,
   "id": "91dbe380",
   "metadata": {},
   "outputs": [],
   "source": []
  },
  {
   "cell_type": "code",
   "execution_count": null,
   "id": "78700b61",
   "metadata": {},
   "outputs": [],
   "source": []
  }
 ],
 "metadata": {
  "kernelspec": {
   "display_name": "Python 3",
   "language": "python",
   "name": "python3"
  },
  "language_info": {
   "codemirror_mode": {
    "name": "ipython",
    "version": 3
   },
   "file_extension": ".py",
   "mimetype": "text/x-python",
   "name": "python",
   "nbconvert_exporter": "python",
   "pygments_lexer": "ipython3",
   "version": "3.6.13"
  }
 },
 "nbformat": 4,
 "nbformat_minor": 5
}
